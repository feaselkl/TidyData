{
 "cells": [
  {
   "cell_type": "markdown",
   "metadata": {},
   "source": [
    "# dplyr Demo\n",
    "\n",
    "This is a demo to walk through dplyr.  Dplyr is another of the tidyverse packages, and we've already seen a little bit of it.  This demo is based on a [blog post by Gerald Belton](https://www.r-bloggers.com/more-tidyverse-using-dplyr-functions/), along with my additions.\n"
   ]
  },
  {
   "cell_type": "code",
   "execution_count": null,
   "metadata": {},
   "outputs": [],
   "source": [
    "if(!require(tidyverse)) {\n",
    "    install.packages(\"tidyverse\", repos = \"http://cran.us.r-project.org\")\n",
    "    library(tidyverse)\n",
    "}\n",
    "\n",
    "if(!require(gapminder)) {\n",
    "    install.packages(\"gapminder\", repos = \"http://cran.us.r-project.org\")\n",
    "    library(gapminder)\n",
    "}"
   ]
  },
  {
   "cell_type": "markdown",
   "metadata": {},
   "source": [
    "First we can perform some basic filters of the data to get an idea of some of the extremes."
   ]
  },
  {
   "cell_type": "code",
   "execution_count": null,
   "metadata": {},
   "outputs": [],
   "source": [
    "filter(gapminder, lifeExp < 30)\n",
    "filter(gapminder, lifeExp > 81.5)"
   ]
  },
  {
   "cell_type": "markdown",
   "metadata": {},
   "source": [
    "dplyr does not have an AND clause; instead, we can chain together logical AND statements with commas."
   ]
  },
  {
   "cell_type": "code",
   "execution_count": null,
   "metadata": {},
   "outputs": [],
   "source": [
    "filter(gapminder, pop > 20000000 & gdpPercap > 36000)"
   ]
  },
  {
   "cell_type": "markdown",
   "metadata": {},
   "source": [
    "Similarly, the single pipe (|) acts as the OR operator."
   ]
  },
  {
   "cell_type": "code",
   "execution_count": null,
   "metadata": {},
   "outputs": [],
   "source": [
    "filter(gapminder, pop > 1200000000 | gdpPercap > 100000)"
   ]
  },
  {
   "cell_type": "markdown",
   "metadata": {},
   "source": [
    "The `select` function allows you to select specific variables from the data frame."
   ]
  },
  {
   "cell_type": "code",
   "execution_count": null,
   "metadata": {},
   "outputs": [],
   "source": [
    "select(gapminder, year, lifeExp)"
   ]
  },
  {
   "cell_type": "markdown",
   "metadata": {},
   "source": [
    "The pipe operator `%>%` is one of the most important operators in dplyr.  It allows you to take the ouptut from one operation and make it the input for the next operation."
   ]
  },
  {
   "cell_type": "code",
   "execution_count": null,
   "metadata": {},
   "outputs": [],
   "source": [
    "gapminder %>%\n",
    "  filter(pop > 1200000000) %>%\n",
    "  select(country, year, lifeExp)"
   ]
  },
  {
   "cell_type": "markdown",
   "metadata": {},
   "source": [
    "The `mutate` function lets you modify data frames.  In this example, we will add a new calculated variable."
   ]
  },
  {
   "cell_type": "code",
   "execution_count": null,
   "metadata": {},
   "outputs": [],
   "source": [
    "new_gap <- gapminder %>%\n",
    "  mutate(gdp = pop * gdpPercap)\n",
    "head(new_gap)"
   ]
  },
  {
   "cell_type": "markdown",
   "metadata": {},
   "source": [
    "We will sort the data using `arrange`.  This function will sort ascending by default."
   ]
  },
  {
   "cell_type": "code",
   "execution_count": null,
   "metadata": {},
   "outputs": [],
   "source": [
    "new_gap %>%\n",
    "  arrange(gdp, year) %>%\n",
    "  head(10)"
   ]
  },
  {
   "cell_type": "markdown",
   "metadata": {},
   "source": [
    "If we want to sort in descending order, we can use the `desc()` function inside `arrange`.  The following example shows sorting by GDP descending and then continent ascending."
   ]
  },
  {
   "cell_type": "code",
   "execution_count": null,
   "metadata": {},
   "outputs": [],
   "source": [
    "new_gap %>%\n",
    "  arrange(desc(gdp), continent) %>%\n",
    "  head(10)"
   ]
  },
  {
   "cell_type": "markdown",
   "metadata": {},
   "source": [
    "Grouping and summarizing data are vital to analysis.  The following code will group the data by continent and then include the count of observations per continent in the data frame."
   ]
  },
  {
   "cell_type": "code",
   "execution_count": null,
   "metadata": {},
   "outputs": [],
   "source": [
    "new_gap %>%\n",
    "  group_by(continent) %>%\n",
    "  summarize(n = n())"
   ]
  },
  {
   "cell_type": "markdown",
   "metadata": {},
   "source": [
    "We can use grouping and summarizing to look at data at a higher level of granularity than the data itself.  For example, the following code returns the average, by continent, of all life expectancies in the series."
   ]
  },
  {
   "cell_type": "code",
   "execution_count": null,
   "metadata": {},
   "outputs": [],
   "source": [
    "new_gap %>%\n",
    "  group_by(continent) %>%\n",
    "  summarize(avg_lifeExp = mean(lifeExp))"
   ]
  },
  {
   "cell_type": "markdown",
   "metadata": {},
   "source": [
    "We can see the value of the pipe operator even more clearly in the following examples as we filter down to a specific year first and then group and summarize the data to generate life expectancies by continent for a particular year.  First, 1952:"
   ]
  },
  {
   "cell_type": "code",
   "execution_count": null,
   "metadata": {},
   "outputs": [],
   "source": [
    "new_gap %>%\n",
    "  filter(year == 1952) %>%\n",
    "  group_by(continent) %>%\n",
    "  summarize(avg_lifeExp = mean(lifeExp))"
   ]
  },
  {
   "cell_type": "markdown",
   "metadata": {},
   "source": [
    "Now 2007:"
   ]
  },
  {
   "cell_type": "code",
   "execution_count": null,
   "metadata": {},
   "outputs": [],
   "source": [
    "new_gap %>%\n",
    "  filter(year == 2007) %>%\n",
    "  group_by(continent) %>%\n",
    "  summarize(avg_lifeExp = mean(lifeExp))"
   ]
  },
  {
   "cell_type": "markdown",
   "metadata": {},
   "source": [
    "Let's put it all together and look for the single biggest drop in life expectancy by continent from one year to the next.  We will use the `lag()` function to look at the previous record in a particular window (i.e., continent-country pair, sorted by year).  This also allows us to see the `top_n()` function."
   ]
  },
  {
   "cell_type": "code",
   "execution_count": null,
   "metadata": {},
   "outputs": [],
   "source": [
    "new_gap %>%\n",
    "  select(country, year, continent, lifeExp) %>%\n",
    "  group_by(continent, country) %>%\n",
    "  ## within country, take (lifeExp in year i) - (lifeExp in year i - 1)\n",
    "  ## positive means lifeExp went up, negative means it went down\n",
    "  mutate(le_delta = lifeExp - lag(lifeExp)) %>% \n",
    "  ## within country, retain the worst lifeExp change = smallest or most negative\n",
    "  summarize(worst_le_delta = min(le_delta, na.rm = TRUE))  %>% \n",
    "  ## within continent, retain the row with the lowest worst_le_delta\n",
    "  top_n(1, wt = -1 * worst_le_delta) %>% \n",
    "  arrange(worst_le_delta)"
   ]
  },
  {
   "cell_type": "markdown",
   "metadata": {},
   "source": [
    "Let's follow that up by looking at the largest single-year gains in life expectancy by continent."
   ]
  },
  {
   "cell_type": "code",
   "execution_count": null,
   "metadata": {},
   "outputs": [],
   "source": [
    "new_gap %>%\n",
    "  select(country, year, continent, lifeExp) %>%\n",
    "  group_by(continent, country) %>%\n",
    "  mutate(le_delta = lifeExp - lag(lifeExp)) %>% \n",
    "  summarize(best_le_delta = max(le_delta, na.rm = TRUE)) %>% \n",
    "  top_n(1, wt = best_le_delta) %>% \n",
    "  arrange(best_le_delta)"
   ]
  },
  {
   "cell_type": "markdown",
   "metadata": {},
   "source": [
    "To wrap this up, what are the biggest single-year gains in GDP by continent?"
   ]
  },
  {
   "cell_type": "code",
   "execution_count": null,
   "metadata": {},
   "outputs": [],
   "source": [
    "new_gap %>%\n",
    "  select(country, year, continent, gdpPercap) %>%\n",
    "  group_by(continent, country) %>%\n",
    "  mutate(gdp_delta = gdpPercap - lag(gdpPercap)) %>% \n",
    "  summarize(best_gdp_delta = max(gdp_delta, na.rm = TRUE)) %>% \n",
    "  top_n(1, wt = best_gdp_delta) %>% \n",
    "  arrange(best_gdp_delta)"
   ]
  },
  {
   "cell_type": "code",
   "execution_count": null,
   "metadata": {
    "collapsed": true
   },
   "outputs": [],
   "source": []
  }
 ],
 "metadata": {
  "kernelspec": {
   "display_name": "R",
   "language": "R",
   "name": "ir"
  },
  "language_info": {
   "codemirror_mode": "r",
   "file_extension": ".r",
   "mimetype": "text/x-r-source",
   "name": "R",
   "pygments_lexer": "r",
   "version": "3.4.2"
  }
 },
 "nbformat": 4,
 "nbformat_minor": 2
}
