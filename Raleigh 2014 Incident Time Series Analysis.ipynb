{
 "cells": [
  {
   "cell_type": "markdown",
   "metadata": {},
   "source": [
    "# Raleigh 2014 Incident Time Series Analysis\n",
    "\n",
    "This is a demo to perform basic time series analysis on our Raleigh 2014 incident dataset in R.  In this demo, we will perform basic analysis, particularly around quick visualization."
   ]
  },
  {
   "cell_type": "code",
   "execution_count": 1,
   "metadata": {
    "scrolled": true
   },
   "outputs": [
    {
     "name": "stderr",
     "output_type": "stream",
     "text": [
      "Loading required package: tidyverse\n",
      "Warning message:\n",
      "\"package 'tidyverse' was built under R version 3.3.3\"Loading tidyverse: ggplot2\n",
      "Loading tidyverse: tibble\n",
      "Loading tidyverse: tidyr\n",
      "Loading tidyverse: readr\n",
      "Loading tidyverse: purrr\n",
      "Loading tidyverse: dplyr\n",
      "Warning message:\n",
      "\"package 'ggplot2' was built under R version 3.3.3\"Warning message:\n",
      "\"package 'tibble' was built under R version 3.3.3\"Warning message:\n",
      "\"package 'tidyr' was built under R version 3.3.3\"Warning message:\n",
      "\"package 'readr' was built under R version 3.3.3\"Warning message:\n",
      "\"package 'purrr' was built under R version 3.3.3\"Warning message:\n",
      "\"package 'dplyr' was built under R version 3.3.3\"Conflicts with tidy packages ---------------------------------------------------\n",
      "filter(): dplyr, stats\n",
      "lag():    dplyr, stats\n",
      "Loading required package: RODBC\n",
      "Warning message:\n",
      "\"package 'RODBC' was built under R version 3.3.3\"Loading required package: scales\n",
      "Warning message:\n",
      "\"package 'scales' was built under R version 3.3.3\"\n",
      "Attaching package: 'scales'\n",
      "\n",
      "The following object is masked from 'package:purrr':\n",
      "\n",
      "    discard\n",
      "\n",
      "The following object is masked from 'package:readr':\n",
      "\n",
      "    col_factor\n",
      "\n"
     ]
    }
   ],
   "source": [
    "if(!require(tidyverse)) {\n",
    "    install.packages(\"tidyverse\", repos = \"http://cran.us.r-project.org\")\n",
    "    library(tidyverse)\n",
    "}\n",
    "\n",
    "if(!require(ggplot2)) {\n",
    "    install.packages(\"ggplot2\", repos = \"http://cran.us.r-project.org\")\n",
    "    library(ggplot2)\n",
    "}\n",
    "\n",
    "if(!require(RODBC)) {\n",
    "    install.packages(\"RODBC\", repos = \"http://cran.us.r-project.org\")\n",
    "    library(RODBC)\n",
    "}\n",
    "\n",
    "if(!require(scales)) {\n",
    "    install.packages(\"scales\", repos = \"http://cran.us.r-project.org\")\n",
    "    library(scales)\n",
    "}"
   ]
  },
  {
   "cell_type": "markdown",
   "metadata": {
    "collapsed": true
   },
   "source": [
    "Connect to a local database and load Raleigh incident data.  If you need help loading the data, check out DataLoad\\RaleighIncidents2014\\0 - Database Prep.sql and follow the instructions from there."
   ]
  },
  {
   "cell_type": "code",
   "execution_count": null,
   "metadata": {
    "collapsed": true
   },
   "outputs": [],
   "source": [
    "conn <- odbcDriverConnect(\"driver={SQL Server};server=LOCALHOST;database=RaleighCrime;trusted_connection=true\")\n",
    "raleigh2014 <- sqlQuery(conn,\n",
    "  \"SELECT\n",
    "\ti.BeatID,\n",
    "\ti.IncidentCode,\n",
    "\tic.IncidentDescription,\n",
    "\tit.IncidentType,\n",
    "\ti.IncidentDate,\n",
    "\ti.IncidentNumber\n",
    "FROM dbo.Incident i\n",
    "\tINNER JOIN dbo.IncidentCode ic\n",
    "\t\tON i.IncidentCode = ic.IncidentCode\n",
    "\tINNER JOIN dbo.IncidentType it\n",
    "\t\tON ic.IncidentTypeID = it.IncidentTypeID;\"\n",
    ")"
   ]
  },
  {
   "cell_type": "markdown",
   "metadata": {},
   "source": [
    "The first step when analyzing a data set:  review the variables and basic summary information."
   ]
  },
  {
   "cell_type": "code",
   "execution_count": null,
   "metadata": {},
   "outputs": [],
   "source": [
    "str(raleigh2014)"
   ]
  },
  {
   "cell_type": "markdown",
   "metadata": {},
   "source": [
    "We're going to want to do a bit of cleanup here.  We'll make the text values (including the ill-named Incident Number) into strings and split out date into several columns for easier analysis downstream."
   ]
  },
  {
   "cell_type": "code",
   "execution_count": null,
   "metadata": {
    "collapsed": true
   },
   "outputs": [],
   "source": [
    "raleigh2014$IncidentNumber <- as.character(raleigh2014$IncidentNumber)\n",
    "raleigh2014$IncidentCode <- as.character(raleigh2014$IncidentCode)\n",
    "raleigh2014$IncidentType <- as.character(raleigh2014$IncidentType)\n",
    "raleigh2014$IncidentDescription <- as.character(raleigh2014$IncidentDescription)\n",
    "raleigh2014$IncidentYear <- as.integer(format(raleigh2014$IncidentDate, format=\"%Y\"))\n",
    "raleigh2014$IncidentMonth <- as.integer(format(raleigh2014$IncidentDate, format=\"%m\"))\n",
    "raleigh2014$IncidentDay <- as.integer(format(raleigh2014$IncidentDate, format=\"%d\"))"
   ]
  },
  {
   "cell_type": "markdown",
   "metadata": {},
   "source": [
    "## Time Series Basics\n",
    "\n",
    "We can look at incidents by month with a simple time-series analysis.  We will add a new variable called IncidentCount and aggregate those incident counts."
   ]
  },
  {
   "cell_type": "code",
   "execution_count": null,
   "metadata": {},
   "outputs": [],
   "source": [
    "raleigh2014.timeseries <- raleigh2014 %>% filter(IncidentYear < 2014)\n",
    "raleigh2014.timeseries$IncidentCount <- 1\n",
    "raleigh2014.timeseries$Month <- as.Date(cut(raleigh2014.timeseries$IncidentDate, breaks = \"month\"))\n",
    "raleigh2014.timeseries$Date <- as.Date(cut(raleigh2014.timeseries$IncidentDate, breaks = \"day\"))\n",
    "ggplot(data = raleigh2014.timeseries, aes(x = Month, y = IncidentCount)) +\n",
    "  stat_summary(fun.y = sum, geom = \"line\") +\n",
    "  scale_x_date(labels = date_format(\"%Y-%m\"), breaks = date_breaks(\"year\"))"
   ]
  },
  {
   "cell_type": "markdown",
   "metadata": {},
   "source": [
    "It seems that the number of incidents drops sharply each year...but that coincides with February, so it could just be that February has 2-3 fewer days than the rest of the months.  Let's look instead of incident count, incidents per day."
   ]
  },
  {
   "cell_type": "code",
   "execution_count": null,
   "metadata": {},
   "outputs": [],
   "source": [
    "ipd <- raleigh2014.timeseries %>%\n",
    "          group_by(Month) %>%\n",
    "          summarize(IncidentsPerDay = sum(IncidentCount)/max(IncidentDay))\n",
    "\n",
    "ggplot(data = ipd, aes(x = Month, y = IncidentsPerDay)) +\n",
    "  geom_point() +\n",
    "  geom_line() +\n",
    "  scale_x_date(labels = date_format(\"%Y-%m\"), breaks = date_breaks(\"year\"))"
   ]
  },
  {
   "cell_type": "markdown",
   "metadata": {},
   "source": [
    "This shows that the number of incidents per day stays within the range 114-134 per day (outside a few exceptional months), but something interesting is that incident rates per day are still well below the average.  This tells us that the two missing days aren't the entire difference here."
   ]
  },
  {
   "cell_type": "code",
   "execution_count": null,
   "metadata": {},
   "outputs": [],
   "source": [
    "ipd %>%\n",
    "  arrange(IncidentsPerDay, Month) %>%\n",
    "  head(10)"
   ]
  },
  {
   "cell_type": "code",
   "execution_count": null,
   "metadata": {},
   "outputs": [],
   "source": [
    "ipd %>%\n",
    "  arrange(desc(IncidentsPerDay), Month) %>%\n",
    "  head(10)"
   ]
  },
  {
   "cell_type": "code",
   "execution_count": null,
   "metadata": {
    "collapsed": true
   },
   "outputs": [],
   "source": []
  }
 ],
 "metadata": {
  "kernelspec": {
   "display_name": "R",
   "language": "R",
   "name": "ir"
  },
  "language_info": {
   "codemirror_mode": "r",
   "file_extension": ".r",
   "mimetype": "text/x-r-source",
   "name": "R",
   "pygments_lexer": "r",
   "version": "3.5.1"
  }
 },
 "nbformat": 4,
 "nbformat_minor": 2
}
