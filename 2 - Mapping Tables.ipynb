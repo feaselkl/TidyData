{
    "metadata": {
        "kernelspec": {
            "name": "SQL",
            "display_name": "SQL",
            "language": "sql"
        },
        "language_info": {
            "name": "sql",
            "version": ""
        }
    },
    "nbformat_minor": 2,
    "nbformat": 4,
    "cells": [
        {
            "cell_type": "markdown",
            "source": "# Mapping Tables\r\n\r\nIn this notebook, we will create a mapping table which provides us with additional information for analysis without affecting our transactional processing system.\r\n\r\nA true mapping table would be a completely separate table, but in this case, we opted to add a nullable lookup ID on the `IncidentCode` table because we knew it would not be disruptive to the current process.\r\n\r\n## Create the New Column\r\n\r\nThe first thing we need to do is to create a new column on `IncidentCode` called `IncidentTypeID`.  It will correspond to an `IncidentType` table that we will soon create.",
            "metadata": {}
        },
        {
            "cell_type": "code",
            "source": "IF NOT EXISTS\r\n(\r\n    SELECT 1\r\n    FROM sys.columns sc\r\n    WHERE\r\n        sc.name = N'IncidentTypeID'\r\n        AND sc.object_id = OBJECT_ID('dbo.IncidentCode')\r\n)\r\nBEGIN\r\n    ALTER TABLE dbo.IncidentCode ADD IncidentTypeID INT NULL;\r\nEND\r\nGO",
            "metadata": {},
            "outputs": [],
            "execution_count": 1
        },
        {
            "cell_type": "markdown",
            "source": "## Create the New Table\r\n\r\nAfter creating the `IncidentTypeID` column, we will want to link it up to a new table.  The `IncidentType` table will let us group together different incident description codes into a smaller group so we can perform analysis more easily.  As we can see from a quick `TOP 15 *` of the `IncidentCode` table, the specific police codes fit into relatively easy to define categories such as forgery, murder, and fraud.\r\n\r\n<img src=\"https://raw.githubusercontent.com/feaselkl/TidyData/master/Images/IncidentType.png\" width=\"500\" />\r\n\r\nWith this information, we can create a new table for incident types.",
            "metadata": {}
        },
        {
            "cell_type": "code",
            "source": "IF NOT EXISTS\r\n(\r\n    SELECT 1\r\n    FROM sys.tables t\r\n    WHERE\r\n        t.name = N'IncidentType'\r\n)\r\nBEGIN\r\n    CREATE TABLE dbo.IncidentType\r\n    (\r\n        IncidentTypeID INT IDENTITY(1,1) NOT NULL,\r\n        IncidentType VARCHAR(55) NOT NULL\r\n    );\r\n    ALTER TABLE dbo.IncidentType ADD CONSTRAINT [PK_IncidentType] PRIMARY KEY CLUSTERED(IncidentTypeID);\r\n    ALTER TABLE dbo.IncidentType ADD CONSTRAINT [UKC_IncidentType] UNIQUE(IncidentType);\r\n    ALTER TABLE dbo.IncidentCode ADD CONSTRAINT [FK_IncidentCode_IncidentType]\r\n        FOREIGN KEY(IncidentTypeID)\r\n        REFERENCES dbo.IncidentType(IncidentTypeID);\r\nEND\r\nGO",
            "metadata": {},
            "outputs": [],
            "execution_count": 2
        },
        {
            "cell_type": "markdown",
            "source": "## Notes on Building a Mapping Table\r\n\r\nNow comes the hard part:  creating incident types and linking incident descriptions to those types.  Having surveyed the data (and having no outside guidance on what those types **ought** to be), we can build out incident types from the incident descriptions by following a set of mapping rules.\r\n\r\n### Separator Characters\r\n\r\nThere are three key separator chracters:  `/`, `-`, and `(`.  If we see one of these characters in a description, we know that the incident type is the text **before** these characters.\r\n\r\n### Special Cases\r\n\r\nThere are a few special cases in this data set.\r\n\r\n1. [something] W/[something] should just be [something].  For example, `ROBBERY W/FLOUNDER` should just be `ROBBERY`.\r\n2. If the block starts with `MURDER`, `EMBEZZLEMENT`, `ASSAULT`, `LARCENY`, or `RAPE`, that is the respective incident type.  Each of these cases has examples which do not have a separator character, so we will need to take care of them specially.\r\n\r\n### Cleanup\r\n\r\nAfter we figure out the incident type, we will want to trim any whitespace around the incident type, as \"MURDER\" and \"MURDER &nbsp;&nbsp;\" are the same thing.\r\n\r\nWe will also want to get the distinct values so that we have one `MURDER` instead of ten.\r\n\r\n### Tips and Tricks\r\n\r\nThis script makes heavy use of the `APPLY` operator.  If you want to see the `APPLY` operator in action, I have an entire talk on it at https://csmore.info/on/apply.  Here we will use the `APPLY` operator to work methodically, making it easier for us to visualize changes and come up with a viable solution.  You do not strictly need to use it, but I think the answer without `APPLY` will be considerably harder to understand and probably will perform no better.\r\n\r\nWe also use `CHARINDEX` and `PATINDEX` to find the positions of characters.  If you are not familiar with them, they can be quite useful functions.\r\n\r\n## Step One:  Create a Temp Table\r\n\r\n",
            "metadata": {}
        },
        {
            "cell_type": "code",
            "source": "DROP TABLE IF EXISTS #IncidentType;\r\nCREATE TABLE #IncidentType\r\n(\r\n\tIncidentCode VARCHAR(5),\r\n\tIncidentDescription VARCHAR(55),\r\n\tIncidentType VARCHAR(55),\r\n\tIncidentTypeID INT\r\n);",
            "metadata": {},
            "outputs": [],
            "execution_count": 4
        },
        {
            "cell_type": "markdown",
            "source": "## Step Two:  Load Incident Type\r\n\r\nThis script loads one record per incident code in the `IncidentCode` table.  For each incident code, we run through the rules above to determine what the incident type ought to be.",
            "metadata": {}
        },
        {
            "cell_type": "code",
            "source": "INSERT INTO #IncidentType\r\n(\r\n\tIncidentCode,\r\n\tIncidentDescription,\r\n\tIncidentType\r\n)\r\nSELECT\r\n\tic.IncidentCode,\r\n\tic.IncidentDescription,\r\n\tLTRIM(RTRIM(SUBSTRING(ic.IncidentDescription, 1, fdc.FirstDecidingCharacter - 1))) AS IncidentType\r\nFROM dbo.IncidentCode ic\r\n\tCROSS APPLY(SELECT REPLACE(ic.IncidentDescription, ' W/', '-W/') AS IncidentDescription) idW\r\n\tCROSS APPLY(SELECT REPLACE(idW.IncidentDescription, 'MURDER ', 'MURDER/') AS IncidentDescription) idM\r\n\tCROSS APPLY(SELECT REPLACE(idM.IncidentDescription, 'EMBEZZLEMENT ', 'EMBEZZLEMENT/') AS IncidentDescription) idE\r\n\tCROSS APPLY(SELECT REPLACE(idE.IncidentDescription, 'ASSAULT ', 'ASSAULT/') AS IncidentDescription) idA\r\n\tCROSS APPLY(SELECT REPLACE(idA.IncidentDescription, 'LARCENY ', 'LARCENY/') AS IncidentDescription) idL\r\n\tCROSS APPLY(SELECT REPLACE(idL.IncidentDescription, 'RAPE ', 'RAPE/') AS IncidentDescription) idFinal\r\n\tCROSS APPLY(SELECT CHARINDEX('/', idFinal.IncidentDescription, 1) AS FirstSlash) fs\r\n\tCROSS APPLY(SELECT CHARINDEX('-', idFinal.IncidentDescription, 1) AS FirstHyphen) fh\r\n\tCROSS APPLY(SELECT CHARINDEX('(', idFinal.IncidentDescription, 1) AS FirstParens) fp\r\n\tCROSS APPLY\r\n\t(\r\n\t\tSELECT\r\n\t\t\tCASE WHEN fs.FirstSlash = 0 THEN 999 ELSE fs.FirstSlash END AS FirstSlash,\r\n\t\t\tCASE WHEN fh.FirstHyphen = 0 THEN 999 ELSE fh.FirstHyphen END AS FirstHyphen,\r\n\t\t\tCASE WHEN fp.FirstParens = 0 THEN 999 ELSE fp.FirstParens END AS FirstParens\r\n\t) f\r\n\tCROSS APPLY\r\n\t(\r\n\t\tSELECT\r\n\t\t\tCASE\r\n\t\t\t\tWHEN f.FirstSlash < f.FirstHyphen AND f.FirstSlash < f.FirstParens THEN f.FirstSlash\r\n\t\t\t\tWHEN f.FirstParens < f.FirstHyphen AND f.FirstParens < f.FirstSlash THEN f.FirstParens\r\n\t\t\t\tELSE f.FirstHyphen\r\n\t\t\tEND AS FirstDecidingCharacter\r\n\t) fdc;",
            "metadata": {},
            "outputs": [],
            "execution_count": 5
        },
        {
            "cell_type": "markdown",
            "source": "At this point, we have all of the incident types and can preview them to ensure that things look like how we would expect.",
            "metadata": {}
        },
        {
            "cell_type": "code",
            "source": "SELECT TOP(15)\r\n    it.IncidentCode,\r\n    it.IncidentDescription,\r\n    it.IncidentType\r\nFROM #IncidentType it;",
            "metadata": {},
            "outputs": [],
            "execution_count": 6
        },
        {
            "cell_type": "markdown",
            "source": "## Build Incident Type IDs\r\n\r\nNow we can build up a set of incident type IDs.  This code is a bit complicated so let's walk through it step by step.\r\n\r\n### Finding Existing Types\r\n\r\nIt's possible that we've run this code before and have a set of incident type IDs.  In order to make sure we don't accidentally assign new values to those IDs, we will get the current values from the `IncidentType` table in a Common Table Expression (CTE) called `existingTypes`.  We will also get the maximum value for `IncidentTypeID` to ensure that we don't clobber an existing ID value.\r\n\r\n### Creating Incident Type IDs\r\n\r\nThe `itID` CTE looks for cases where we do **not** have an existing incident type in our table and assigns new IDs in alphabetical order.  We use the `DENSE_RANK` window function to ensure contiguous numbering for incident types regardless of how many rows there are for a particular value.\r\n\r\n### Creating the New ID Set\r\n\r\nThe `newID` CTE combines together our existing incident types along with the newly-created incident types as one bundle.\r\n\r\n### Updating Incident Type IDs\r\n\r\nOnce we have the `newID` CTE put together, we can join back to the `#IncidentType` temp table and set the `IncidentTypeID` value.",
            "metadata": {}
        },
        {
            "cell_type": "code",
            "source": "DECLARE\r\n    @MaxIncidentTypeID TINYINT = 0;\r\n\r\nSELECT\r\n    @MaxIncidentTypeID = MAX(it.IncidentTypeID)\r\nFROM dbo.IncidentType it;\r\n\r\nWITH existingTypes AS\r\n(\r\n    SELECT\r\n        it.IncidentTypeID,\r\n        it.IncidentType\r\n    FROM dbo.IncidentType it\r\n),\r\nitID AS\r\n(\r\n\tSELECT\r\n\t\ti.IncidentType,\r\n\t\tDENSE_RANK() OVER (ORDER BY i.IncidentType)  AS IncidentTypeID\r\n\tFROM #IncidentType i\r\n        LEFT OUTER JOIN existingTypes et\r\n            ON i.IncidentType = et.IncidentType\r\n    WHERE\r\n        et.IncidentType IS NULL\r\n),\r\nnewIDs AS\r\n(\r\n    SELECT DISTINCT\r\n        itID.IncidentType,\r\n        itID.IncidentTypeID + @MaxIncidentTypeID AS IncidentTypeID\r\n    FROM itID\r\n\r\n    UNION ALL\r\n\r\n    SELECT\r\n        et.IncidentType,\r\n        et.IncidentTypeID\r\n    FROM existingTypes et\r\n)\r\nUPDATE it\r\nSET\r\n\tIncidentTypeID = i.IncidentTypeID\r\nFROM #IncidentType it\r\n\tINNER JOIN newIDs i\r\n\t\tON it.IncidentType = i.IncidentType;\r\n",
            "metadata": {},
            "outputs": [],
            "execution_count": 7
        },
        {
            "cell_type": "markdown",
            "source": "## Insert New Incident Type IDs\r\n\r\nNow that we have our incident types, we can insert the new values into the `IncidentType` table.  For values which already exist, we won't need to do anything.\r\n",
            "metadata": {}
        },
        {
            "cell_type": "code",
            "source": "SET IDENTITY_INSERT dbo.IncidentType ON;\r\nINSERT INTO dbo.IncidentType\r\n(\r\n\tIncidentTypeID,\r\n\tIncidentType\r\n)\r\nSELECT DISTINCT\r\n\tit.IncidentTypeID,\r\n\tit.IncidentType\r\nFROM #IncidentType it\r\n    LEFT OUTER JOIN dbo.IncidentType i\r\n        ON it.IncidentTypeID = i.IncidentTypeID\r\nWHERE\r\n    i.IncidentTypeID IS NULL;\r\nSET IDENTITY_INSERT dbo.IncidentType OFF;",
            "metadata": {},
            "outputs": [],
            "execution_count": 8
        },
        {
            "cell_type": "markdown",
            "source": "## Update Incident Codes\r\n\r\nAll of this work serves the purpose of setting incident types on the `IncidentCode` table.  Now that we have all of the groundwork in place, we can join back to the `#IncidentType` temp table and set each code's `IncidentTypeID`.",
            "metadata": {}
        },
        {
            "cell_type": "code",
            "source": "UPDATE ic\r\nSET\r\n\tIncidentTypeID = it.IncidentTypeID\r\nFROM dbo.IncidentCode ic\r\n\tINNER JOIN #IncidentType it\r\n\t\tON ic.IncidentCode = it.IncidentCode;\r\nGO",
            "metadata": {},
            "outputs": [],
            "execution_count": 9
        },
        {
            "cell_type": "code",
            "source": "SELECT TOP(15)\r\n    ic.IncidentCode,\r\n    ic.IncidentDescription,\r\n    ic.IncidentTypeID\r\nFROM dbo.IncidentCode ic;",
            "metadata": {},
            "outputs": [],
            "execution_count": 10
        }
    ]
}