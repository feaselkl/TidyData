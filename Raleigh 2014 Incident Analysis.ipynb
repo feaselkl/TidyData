{
 "cells": [
  {
   "cell_type": "markdown",
   "metadata": {},
   "source": [
    "# Raleigh 2014 Incident Analysis\n",
    "\n",
    "This is a demo to perform basic analysis on our Raleigh 2014 incident dataset in R.  In this demo, we will perform basic analysis, particularly around quick visualization.  Our goal is to learn a bit about this data set and also see if there are any obvious outliers in the data."
   ]
  },
  {
   "cell_type": "code",
   "execution_count": null,
   "metadata": {
    "scrolled": true
   },
   "outputs": [],
   "source": [
    "if(!require(tidyverse)) {\n",
    "    install.packages(\"tidyverse\", repos = \"http://cran.us.r-project.org\")\n",
    "    library(tidyverse)\n",
    "}\n",
    "\n",
    "if(!require(ggplot2)) {\n",
    "    install.packages(\"ggplot2\", repos = \"http://cran.us.r-project.org\")\n",
    "    library(ggplot2)\n",
    "}\n",
    "\n",
    "if(!require(RODBC)) {\n",
    "    install.packages(\"RODBC\", repos = \"http://cran.us.r-project.org\")\n",
    "    library(RODBC)\n",
    "}\n",
    "\n",
    "if(!require(scales)) {\n",
    "    install.packages(\"scales\", repos = \"http://cran.us.r-project.org\")\n",
    "    library(scales)\n",
    "}"
   ]
  },
  {
   "cell_type": "markdown",
   "metadata": {
    "collapsed": true
   },
   "source": [
    "Connect to a local database and load Raleigh incident data.  If you need help loading the data, check out DataLoad\\RaleighIncidents2014\\0 - Database Prep.sql and follow the instructions from there."
   ]
  },
  {
   "cell_type": "code",
   "execution_count": null,
   "metadata": {},
   "outputs": [],
   "source": [
    "conn <- odbcDriverConnect(\"driver={SQL Server};server=.;database=RaleighCrime;trusted_connection=true\")\n",
    "raleigh2014 <- sqlQuery(conn,\n",
    "  \"SELECT\n",
    "\ti.BeatID,\n",
    "\ti.IncidentCode,\n",
    "\tic.IncidentDescription,\n",
    "\tit.IncidentType,\n",
    "\ti.IncidentDate,\n",
    "\ti.IncidentNumber\n",
    "FROM dbo.Incident i\n",
    "\tINNER JOIN dbo.IncidentCode ic\n",
    "\t\tON i.IncidentCode = ic.IncidentCode\n",
    "\tINNER JOIN dbo.IncidentType it\n",
    "\t\tON ic.IncidentTypeID = it.IncidentTypeID;\"\n",
    ")"
   ]
  },
  {
   "cell_type": "markdown",
   "metadata": {},
   "source": [
    "The first step when analyzing a data set:  review the variables and basic summary information."
   ]
  },
  {
   "cell_type": "code",
   "execution_count": null,
   "metadata": {},
   "outputs": [],
   "source": [
    "str(raleigh2014)"
   ]
  },
  {
   "cell_type": "markdown",
   "metadata": {},
   "source": [
    "We're going to want to do a bit of cleanup here.  We'll make the text values (including the ill-named Incident Number) into strings and split out date into several columns for easier analysis downstream."
   ]
  },
  {
   "cell_type": "code",
   "execution_count": null,
   "metadata": {},
   "outputs": [],
   "source": [
    "raleigh2014$IncidentNumber <- as.character(raleigh2014$IncidentNumber)\n",
    "raleigh2014$IncidentCode <- as.character(raleigh2014$IncidentCode)\n",
    "raleigh2014$IncidentType <- as.character(raleigh2014$IncidentType)\n",
    "raleigh2014$IncidentDescription <- as.character(raleigh2014$IncidentDescription)\n",
    "raleigh2014$IncidentYear <- as.integer(format(raleigh2014$IncidentDate, format=\"%Y\"))\n",
    "raleigh2014$IncidentMonth <- as.integer(format(raleigh2014$IncidentDate, format=\"%m\"))\n",
    "raleigh2014$IncidentDay <- as.integer(format(raleigh2014$IncidentDate, format=\"%d\"))"
   ]
  },
  {
   "cell_type": "markdown",
   "metadata": {},
   "source": [
    "The `complete.cases()` function returns a vector of true/false, where it returns `TRUE` when all variables in an observation have values and `FALSE` if there are NA values.  We will filter out any observations with missing values."
   ]
  },
  {
   "cell_type": "code",
   "execution_count": null,
   "metadata": {},
   "outputs": [],
   "source": [
    "raleigh2014 <- raleigh2014[complete.cases(raleigh2014), ]"
   ]
  },
  {
   "cell_type": "markdown",
   "metadata": {},
   "source": [
    "We didn't lose any observations, so we had a complete data set to begin with."
   ]
  },
  {
   "cell_type": "code",
   "execution_count": null,
   "metadata": {},
   "outputs": [],
   "source": [
    "str(raleigh2014)"
   ]
  },
  {
   "cell_type": "markdown",
   "metadata": {},
   "source": [
    "Next up, we'll create a couple of groups for further analysis."
   ]
  },
  {
   "cell_type": "code",
   "execution_count": null,
   "metadata": {},
   "outputs": [],
   "source": [
    "raleigh.incidents.by.year <- raleigh2014 %>%\n",
    "                            group_by(IncidentYear) %>%\n",
    "                            summarize(n = n())\n",
    "raleigh.incidents.by.incident.type <- raleigh2014 %>%\n",
    "                                     group_by(IncidentType) %>%\n",
    "                                     summarize(n = n())"
   ]
  },
  {
   "cell_type": "markdown",
   "metadata": {},
   "source": [
    "## Scatter Plots\n",
    "\n",
    "Create a scatter plot of Raleigh incidents by year."
   ]
  },
  {
   "cell_type": "code",
   "execution_count": null,
   "metadata": {},
   "outputs": [],
   "source": [
    "plot(raleigh.incidents.by.year)"
   ]
  },
  {
   "cell_type": "markdown",
   "metadata": {},
   "source": [
    "We can see that 2014 has fewer incidents than the other years.  This is because 2014 is an incomplete year, so we will need to take that into account when performing analysis.  Ideally, I'm going to skip 2014."
   ]
  },
  {
   "cell_type": "markdown",
   "metadata": {},
   "source": [
    "## Histograms\n",
    "\n",
    "Next up, we'll look at a histogram of incident types."
   ]
  },
  {
   "cell_type": "code",
   "execution_count": null,
   "metadata": {},
   "outputs": [],
   "source": [
    "hist(raleigh.incidents.by.incident.type$n)"
   ]
  },
  {
   "cell_type": "markdown",
   "metadata": {},
   "source": [
    "This tells us that most of our incident types have between 0 and 10,000 incidents in the data set.  We'll be most interested in the most common incident types, as that gives us a natural and interesting filter.\n",
    "\n",
    "So let's look at which types are most popular, starting with the most popular groups and then looking at the mid-range groups."
   ]
  },
  {
   "cell_type": "code",
   "execution_count": null,
   "metadata": {},
   "outputs": [],
   "source": [
    "raleigh.incidents.by.incident.type %>% filter(n >= 80000) %>% arrange(desc(n))"
   ]
  },
  {
   "cell_type": "code",
   "execution_count": null,
   "metadata": {},
   "outputs": [],
   "source": [
    "raleigh.incidents.by.incident.type %>% filter(n >= 20000, n < 80000) %>% arrange(desc(n))"
   ]
  },
  {
   "cell_type": "markdown",
   "metadata": {},
   "source": [
    "## Box and Whisker Plots\n",
    "\n",
    "We will look at counts of incident types on a per-month basis to see the variance for each of the major incident types.  This will help us see if there are certain months which are significantly different from the norm."
   ]
  },
  {
   "cell_type": "code",
   "execution_count": null,
   "metadata": {},
   "outputs": [],
   "source": [
    "raleigh.incidents.by.type.and.month <- raleigh2014 %>% \n",
    "                                    filter(IncidentYear < 2014) %>% \n",
    "                                    group_by(IncidentType, IncidentYear, IncidentMonth) %>% \n",
    "                                    summarize(n = n())\n",
    "popular.incidents <- raleigh.incidents.by.incident.type %>% filter(n >= 20000)"
   ]
  },
  {
   "cell_type": "markdown",
   "metadata": {},
   "source": [
    "What we have are two sets of data:  one which has incident type + year + month, and one which includes only the popular incident types.  We want to join these two sets together so that I only get the year+month data for popular incident types.  We can use the `merge()` function to do just that."
   ]
  },
  {
   "cell_type": "code",
   "execution_count": null,
   "metadata": {},
   "outputs": [],
   "source": [
    "popular.incidents.by.type.and.month <- merge(x = raleigh.incidents.by.type.and.month, \n",
    "                                          y = popular.incidents,\n",
    "                                          by = \"IncidentType\")"
   ]
  },
  {
   "cell_type": "code",
   "execution_count": null,
   "metadata": {},
   "outputs": [],
   "source": [
    "boxplot(n.x ~ IncidentType, data = popular.incidents.by.type.and.month,\n",
    "        xlab=\"Incident Type\", ylab=\"Number of incidents per month\")"
   ]
  },
  {
   "cell_type": "markdown",
   "metadata": {},
   "source": [
    "We tend to see a fairly consistent number of incidents per month for each of the major types.  Larceny has a fairly wide variance, but zero incidents outside the whiskers.  Drugs has a couple of outliers and Assault has one well under the norm.  This tells us that Raleigh police tend to mark incidents fairly consistently and do not change radically from month to month.\n",
    "\n",
    "Of course, we could say the same about the people causing these incidents...\n",
    "\n",
    "So what about a breakdown by beat?  We don't know exactly which officers patrol a particular beat or even exactly where these beats are (though the data set does have latitude + longitude data so we might be able to back into some results there), but working from the assumption that an officer will run a beat for a while, we might see something interesting."
   ]
  },
  {
   "cell_type": "code",
   "execution_count": null,
   "metadata": {},
   "outputs": [],
   "source": [
    "incidents.by.beat <- raleigh2014 %>%\n",
    "  group_by(IncidentType, BeatID) %>%\n",
    "  summarize(n = n())\n",
    "popular.incidents.by.beat <- merge(x = incidents.by.beat, \n",
    "                                   y = popular.incidents,\n",
    "                                   by = \"IncidentType\")\n",
    "boxplot(n.x ~ IncidentType, data = popular.incidents.by.beat,\n",
    "        xlab=\"Incident Type\", ylab=\"Number of incidents by beat\")"
   ]
  },
  {
   "cell_type": "markdown",
   "metadata": {},
   "source": [
    "In fact, for Miscellaneous incidents, there are some huge outliers.  That might be worth further investigation.\n",
    "\n",
    "Also worth noting is that each of these incident types are skewed toward more incidents.  I could plot the incident types as a curve and expect to see skewness, particularly for the Miscellaneous category.\n",
    "\n",
    "Now let's focus down to a particular incident type and look at it on a per-beat basis."
   ]
  },
  {
   "cell_type": "code",
   "execution_count": null,
   "metadata": {
    "scrolled": true
   },
   "outputs": [],
   "source": [
    "prostitution.by.beat <- raleigh2014 %>%\n",
    "                      filter(IncidentType == \"PROSTITUTION\") %>% \n",
    "                      group_by(BeatID) %>%\n",
    "                      summarize(n = n())\n",
    "plot(prostitution.by.beat)"
   ]
  },
  {
   "cell_type": "markdown",
   "metadata": {},
   "source": [
    "Note that a few beats are way above the norm.  This could be because the people on those beats are more active about citing, or maybe they are working in areas known for this.  We don't have enough information to know for sure."
   ]
  },
  {
   "cell_type": "markdown",
   "metadata": {},
   "source": [
    "## Quantile-Quantile (QQ) plots\n",
    "\n",
    "The QQ (Quantile-Quantile) plot tells how far our data is off the expected distribution.  The closer the plot is to a straight line with a 45 degree angle, the closer the distributional fit.  Let's suppose we think the number of incidents by month follows a normal distribution."
   ]
  },
  {
   "cell_type": "code",
   "execution_count": null,
   "metadata": {},
   "outputs": [],
   "source": [
    "raleigh.incidents.by.month <- raleigh2014 %>% \n",
    "  filter(IncidentYear < 2014) %>% \n",
    "  group_by(IncidentYear, IncidentMonth) %>% \n",
    "  summarize(n = n())"
   ]
  },
  {
   "cell_type": "markdown",
   "metadata": {},
   "source": [
    "`qqnorm` is a version of `qqplot` which compares against a normal distribution.  `qqline` draws a line which passes through the 1st and 3rd quartiles."
   ]
  },
  {
   "cell_type": "code",
   "execution_count": null,
   "metadata": {},
   "outputs": [],
   "source": [
    "sdres <- sd(raleigh.incidents.by.month$n)\n",
    "m <- mean(raleigh.incidents.by.month$n)\n",
    "raleigh.incidents.by.month$sd <- ((as.double(raleigh.incidents.by.month$n) - m)/sdres)\n",
    "\n",
    "qqnorm(raleigh.incidents.by.month$sd)\n",
    "qqline(raleigh.incidents.by.month$sd)"
   ]
  },
  {
   "cell_type": "markdown",
   "metadata": {},
   "source": [
    "The assumption that the number of incidents follows a normal distribution isn't a terrible assumption, but it's also not very good:  far too many months have too few incidents."
   ]
  },
  {
   "cell_type": "code",
   "execution_count": null,
   "metadata": {},
   "outputs": [],
   "source": []
  }
 ],
 "metadata": {
  "kernelspec": {
   "display_name": "R",
   "language": "R",
   "name": "ir"
  },
  "language_info": {
   "codemirror_mode": "r",
   "file_extension": ".r",
   "mimetype": "text/x-r-source",
   "name": "R",
   "pygments_lexer": "r",
   "version": "3.5.1"
  }
 },
 "nbformat": 4,
 "nbformat_minor": 2
}
