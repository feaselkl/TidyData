{
 "cells": [
  {
   "cell_type": "markdown",
   "metadata": {},
   "source": [
    "# Tidy Data With TidyR"
   ]
  },
  {
   "cell_type": "markdown",
   "metadata": {},
   "source": [
    "This notebook will walk through parts of the [tidyr vignette](ftp://cran.r-project.org/pub/R/web/packages/tidyr/vignettes/tidy-data.html).  We will load a number of different data sources and gain an understanding how the tidyverse can make analysis with R easier.\n",
    "\n",
    "Let's install the relevant packages."
   ]
  },
  {
   "cell_type": "code",
   "execution_count": null,
   "metadata": {},
   "outputs": [],
   "source": [
    "if(!require(tidyverse)) {\n",
    "    install.packages(\"tidyverse\", repos = \"http://cran.us.r-project.org\")\n",
    "    library(tidyverse)\n",
    "}\n",
    "\n",
    "if(!require(ggplot2)) {\n",
    "    install.packages(\"ggplot2\", repos = \"http://cran.us.r-project.org\")\n",
    "    library(ggplot2)\n",
    "}"
   ]
  },
  {
   "cell_type": "markdown",
   "metadata": {},
   "source": [
    "We will look at using the tidyverse packages, particularly tidyr and dplyr, to solve several problems.\n",
    "\n",
    "### Column headers are values rather than variable names\n",
    "This is a common issue with reading in reports, where particular values of a variable will show up as columns in a matrix.  See for example this Pew survey, where income values make up the columns on a matrix.\n",
    "\n",
    "<img src=\"Images/Pew.png\" />\n",
    "\n",
    "In order to tidy up this data, we will need to *unpivot* our income data.  Doing this is pretty easy with the *gather* function in tidyr!"
   ]
  },
  {
   "cell_type": "code",
   "execution_count": null,
   "metadata": {},
   "outputs": [],
   "source": [
    "pew <- tbl_df(read.csv(\"Data/pew.csv\", stringsAsFactors = FALSE, check.names = FALSE))\n",
    "pew <- pew %>%\n",
    "        gather(income, frequency, -religion)\n",
    "head(pew,5)"
   ]
  },
  {
   "cell_type": "markdown",
   "metadata": {},
   "source": [
    "The biggest benefit we get from this is that it's easy to plot this data using something like ggplot2."
   ]
  },
  {
   "cell_type": "code",
   "execution_count": null,
   "metadata": {},
   "outputs": [],
   "source": [
    "ggplot(filter(pew, income %in% c(\"$40-50k\", \"$50-75k\", \"$75-100k\")),\n",
    "       aes(x=reorder(religion, frequency), y=frequency)) +\n",
    "  geom_bar(stat=\"identity\") +\n",
    "  xlab(\"\\nReligion\") +\n",
    "  ylab(\"Number Of Respondents\\n\") +\n",
    "  coord_flip() +\n",
    "  theme_minimal() +\n",
    "  theme(axis.text.x = element_text(angle = 90, hjust = 1))"
   ]
  },
  {
   "cell_type": "markdown",
   "metadata": {},
   "source": [
    "### Multiple variables stored in one column\n",
    "You might need to work with a data set which smashes two (or more) variables into a single field in order to display results as a matrix.  The *gather* and *separate* functions in tidyr can let us tidy up this data set.\n",
    "\n",
    "<img src=\"Images/TB.png\" />\n",
    "\n",
    "In this case, the column values are a combination of two variables:  sex and age range, where m04 is males aged 0-4 and f1524 is females aged 15-24."
   ]
  },
  {
   "cell_type": "code",
   "execution_count": null,
   "metadata": {
    "scrolled": true
   },
   "outputs": [],
   "source": [
    "tb <- tbl_df(read.csv(\"Data/tb.csv\", stringsAsFactors = FALSE))\n",
    "\n",
    "tb2 <- tb %>% \n",
    "  #gather will take all columns except iso2 and year and turn them into\n",
    "  #relevant values for a variable, calling that value \"demo\"\n",
    "  gather(demo, n, -iso2, -year, na.rm = TRUE) %>% \n",
    "  #separate will split out sex and age from the demographic variable. \n",
    "  separate(demo, c(\"sex\", \"age\"), 1)\n",
    "\n",
    "tb2"
   ]
  },
  {
   "cell_type": "markdown",
   "metadata": {},
   "source": [
    "Doing this gives us four relevant variables:  iso2, year, sex, and age.  It also gives us one measure:  n (number of patients).  We can regress n against year, sex, and age to build a simple model:"
   ]
  },
  {
   "cell_type": "code",
   "execution_count": null,
   "metadata": {},
   "outputs": [],
   "source": [
    "tblm <- lm(formula = n ~ year + sex + age, data = tb2)\n",
    "\n",
    "summary(tblm)"
   ]
  },
  {
   "cell_type": "markdown",
   "metadata": {},
   "source": [
    "These results show significant variables but a very low R^2, meaning that the explanatory power of this particular OLS regression model is weak.\n",
    "\n",
    "### Entity-Attribute-Value\n",
    "\n",
    "Sometimes data sets come in as Entity-Attribute-Value pairs, where variable names are stored in rows along with the variable values."
   ]
  },
  {
   "cell_type": "code",
   "execution_count": null,
   "metadata": {
    "collapsed": true
   },
   "outputs": [],
   "source": [
    "weather <- tbl_df(read.csv(\"Data/weather.csv\", stringsAsFactors = FALSE))"
   ]
  },
  {
   "cell_type": "markdown",
   "metadata": {},
   "source": [
    "<img src=\"Images/Weather.png\" />\n",
    "\n",
    "In this data set, there are two variables, tmin and tmax, which are represented with different rows.  In addition to that, we have another variable spread out across the columns.  To tidy this data set, we'll need to *gather* the variables stored as columns and also *spread* the variables stored as rows."
   ]
  },
  {
   "cell_type": "code",
   "execution_count": null,
   "metadata": {
    "collapsed": true
   },
   "outputs": [],
   "source": [
    "weather2 <- weather %>%\n",
    "  gather(day, value, d1:d31, na.rm = TRUE) %>% \n",
    "  mutate(day = readr::parse_number(day)) %>%\n",
    "  select(id, year, month, day, element, value) %>%\n",
    "  arrange(id, year, month, day) %>%\n",
    "  spread(element, value)"
   ]
  },
  {
   "cell_type": "code",
   "execution_count": null,
   "metadata": {},
   "outputs": [],
   "source": [
    "head(weather2)"
   ]
  },
  {
   "cell_type": "markdown",
   "metadata": {},
   "source": [
    "We can easily take this and plot the min and max temperatures for August 2010, something we would have had much difficulty doing otherwise."
   ]
  },
  {
   "cell_type": "code",
   "execution_count": null,
   "metadata": {},
   "outputs": [],
   "source": [
    "ggplot(filter(weather2, month == 8 & year == 2010), aes(x = day)) +\n",
    "    geom_line(aes(y=tmax, color=\"Max Temp\")) +\n",
    "    geom_line(aes(y = tmin, color = \"Min Temp\")) +\n",
    "    theme_minimal()"
   ]
  },
  {
   "cell_type": "raw",
   "metadata": {
    "collapsed": true
   },
   "source": []
  }
 ],
 "metadata": {
  "kernelspec": {
   "display_name": "R",
   "language": "R",
   "name": "ir"
  },
  "language_info": {
   "codemirror_mode": "r",
   "file_extension": ".r",
   "mimetype": "text/x-r-source",
   "name": "R",
   "pygments_lexer": "r",
   "version": "3.4.2"
  }
 },
 "nbformat": 4,
 "nbformat_minor": 2
}
